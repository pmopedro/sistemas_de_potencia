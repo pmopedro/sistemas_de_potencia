{
 "cells": [
  {
   "cell_type": "code",
   "execution_count": 2,
   "id": "decreased-adapter",
   "metadata": {},
   "outputs": [],
   "source": [
    "import numpy as np\n",
    "import scipy \n",
    "import pandas as pd"
   ]
  },
  {
   "cell_type": "markdown",
   "id": "pressing-toilet",
   "metadata": {},
   "source": [
    "# 1 Problema de Fluxo de Carga\n",
    "## 1.1 Conseguir matriz admitância"
   ]
  },
  {
   "cell_type": "code",
   "execution_count": 3,
   "id": "celtic-organ",
   "metadata": {},
   "outputs": [],
   "source": [
    "def get_admitance(R,X):\n",
    "    i =1j\n",
    "    return R/(R*R+X*X)-X*i/(R*R+X*X)"
   ]
  },
  {
   "cell_type": "code",
   "execution_count": 4,
   "id": "pharmaceutical-porter",
   "metadata": {},
   "outputs": [],
   "source": [
    "lines = pd.DataFrame([[0.0050, 0.200],\n",
    "                      [0.0090, 0.100],\n",
    "                      [0.0030, 0.060],\n",
    "                      [0.00225, 0.100],\n",
    "                      [0.0010, 0.05]],\n",
    "                    columns=['r', 'x'],\n",
    "                    index=['y12','y13','y13*','y23','y34'])"
   ]
  },
  {
   "cell_type": "code",
   "execution_count": 5,
   "id": "annoying-subcommittee",
   "metadata": {},
   "outputs": [
    {
     "data": {
      "text/plain": [
       "y12      0.124922-4.996877j\n",
       "y13      0.892769-9.919651j\n",
       "y13*    0.831255-16.625104j\n",
       "y23      0.224886-9.994940j\n",
       "y34     0.399840-19.992003j\n",
       "dtype: complex128"
      ]
     },
     "execution_count": 5,
     "metadata": {},
     "output_type": "execute_result"
    }
   ],
   "source": [
    "y = get_admitance(lines.r,lines.x)\n",
    "y"
   ]
  },
  {
   "cell_type": "code",
   "execution_count": 6,
   "id": "mysterious-effectiveness",
   "metadata": {},
   "outputs": [
    {
     "data": {
      "text/plain": [
       "(1.8489456936887732-30.751631687095323j)"
      ]
     },
     "execution_count": 6,
     "metadata": {},
     "output_type": "execute_result"
    }
   ],
   "source": [
    "y['y12']+y['y13']+y['y13*']+0.54j/2+0.82j/2+0.22j/2"
   ]
  },
  {
   "cell_type": "code",
   "execution_count": 7,
   "id": "domestic-sussex",
   "metadata": {},
   "outputs": [
    {
     "data": {
      "text/plain": [
       "(-1.7240237698911467+26.54475473519026j)"
      ]
     },
     "execution_count": 7,
     "metadata": {},
     "output_type": "execute_result"
    }
   ],
   "source": [
    "-(y['y13']+y['y13*'])"
   ]
  },
  {
   "cell_type": "code",
   "execution_count": 8,
   "id": "pressed-found",
   "metadata": {},
   "outputs": [
    {
     "data": {
      "text/plain": [
       "(0.34980807518348733-14.281817013498875j)"
      ]
     },
     "execution_count": 8,
     "metadata": {},
     "output_type": "execute_result"
    }
   ],
   "source": [
    "y['y12']+y['y23']+0.54j/2+0.88j/2"
   ]
  },
  {
   "cell_type": "code",
   "execution_count": 9,
   "id": "adequate-italic",
   "metadata": {},
   "outputs": [
    {
     "data": {
      "text/plain": [
       "(2.5687499852514177-55.57169799550459j)"
      ]
     },
     "execution_count": 9,
     "metadata": {},
     "output_type": "execute_result"
    }
   ],
   "source": [
    "y['y13']+y['y13*']+y['y34']+y['y23']+0.82j/2+0.22j/2+0.88j/2+0.44/2"
   ]
  },
  {
   "cell_type": "code",
   "execution_count": 10,
   "id": "timely-eclipse",
   "metadata": {},
   "outputs": [
    {
     "data": {
      "text/plain": [
       "(0.39984006397441013-19.772003198720512j)"
      ]
     },
     "execution_count": 10,
     "metadata": {},
     "output_type": "execute_result"
    }
   ],
   "source": [
    "y['y34']+0.44j/2"
   ]
  },
  {
   "cell_type": "markdown",
   "id": "rubber-sperm",
   "metadata": {},
   "source": [
    "## 1.2 Calcular Potências"
   ]
  },
  {
   "cell_type": "code",
   "execution_count": 11,
   "id": "acoustic-administration",
   "metadata": {},
   "outputs": [],
   "source": [
    "def get_real_power(Vi,Vm,Gim,Bim,TETAim):\n",
    "    Gim = np.array(Gim)\n",
    "    Bim = np.array(Bim)\n",
    "    row = Vm*(Gim*np.cos(TETAim)+Bim*np.sin(TETAim))\n",
    "    \n",
    "    return Vi*sum(row)"
   ]
  },
  {
   "cell_type": "code",
   "execution_count": 12,
   "id": "express-injection",
   "metadata": {},
   "outputs": [],
   "source": [
    "def get_complex_power(Vi,Vm,Gim,TETAim,Bim):\n",
    "    Gim = np.array(Gim)\n",
    "    Bim = np.array(Bim)\n",
    "    row = Vm*(Gim*np.sin(TETAim)-Bim*np.cos(TETAim))\n",
    "    return Vi*sum(row)"
   ]
  },
  {
   "cell_type": "code",
   "execution_count": 13,
   "id": "white-record",
   "metadata": {},
   "outputs": [],
   "source": [
    "V = [1, 1, 1.02, 1]\n",
    "\n",
    "G = [[1.84,-0.125,-0.724,0],\n",
    "     [0.125,0.35,-0.225,0],\n",
    "     [-1.724,0.225,2.57,-0.4],\n",
    "     [0,0,-0.4,0.4]]\n",
    "\n",
    "B = [[-30.8,5,26.6,0],\n",
    "     [5, -14.3, 10, 0],\n",
    "     [26.6, 10, -55.6,20],\n",
    "     [0, 0, 20, 19.8]]\n",
    "\n",
    "TETAim=[0,0,0,0]"
   ]
  },
  {
   "cell_type": "code",
   "execution_count": 14,
   "id": "individual-circulation",
   "metadata": {},
   "outputs": [],
   "source": [
    "PQs_calculados = np.array([])"
   ]
  },
  {
   "cell_type": "code",
   "execution_count": 15,
   "id": "impressive-villa",
   "metadata": {},
   "outputs": [
    {
     "data": {
      "text/plain": [
       "array([0.252865])"
      ]
     },
     "execution_count": 15,
     "metadata": {},
     "output_type": "execute_result"
    }
   ],
   "source": [
    "P2 = get_real_power(1.03,[1,1,1.02,1],G[1], \n",
    "              B[1],0)\n",
    "PQs_calculados = np.append(PQs_calculados, P2)\n",
    "PQs_calculados"
   ]
  },
  {
   "cell_type": "code",
   "execution_count": 16,
   "id": "arranged-consumer",
   "metadata": {},
   "outputs": [
    {
     "data": {
      "text/plain": [
       "array([0.252865, 0.744072])"
      ]
     },
     "execution_count": 16,
     "metadata": {},
     "output_type": "execute_result"
    }
   ],
   "source": [
    "P3 = get_real_power(1.03,[1,1,1.02,1],G[2], \n",
    "              B[2],0)\n",
    "PQs_calculados = np.append(PQs_calculados, P3)\n",
    "PQs_calculados"
   ]
  },
  {
   "cell_type": "code",
   "execution_count": 17,
   "id": "blank-invasion",
   "metadata": {},
   "outputs": [
    {
     "data": {
      "text/plain": [
       "array([ 0.252865,  0.744072, -0.00824 ])"
      ]
     },
     "execution_count": 17,
     "metadata": {},
     "output_type": "execute_result"
    }
   ],
   "source": [
    "P4 = get_real_power(1.03,[1,1,1.02,1],G[3], \n",
    "              B[3],0)\n",
    "PQs_calculados = np.append(PQs_calculados, P4)\n",
    "PQs_calculados"
   ]
  },
  {
   "cell_type": "code",
   "execution_count": 18,
   "id": "floppy-veteran",
   "metadata": {},
   "outputs": [
    {
     "data": {
      "text/plain": [
       "array([ 0.252865  ,  0.744072  , -0.00824   , -0.35059436])"
      ]
     },
     "execution_count": 18,
     "metadata": {},
     "output_type": "execute_result"
    }
   ],
   "source": [
    "Q2 = get_complex_power(1.03,[1,1,1.02,1],G[1], \n",
    "              B[1],0)\n",
    "PQs_calculados = np.append(PQs_calculados, Q2)\n",
    "PQs_calculados"
   ]
  },
  {
   "cell_type": "code",
   "execution_count": 19,
   "id": "underlying-print",
   "metadata": {},
   "outputs": [
    {
     "data": {
      "text/plain": [
       "array([ 0.252865  ,  0.744072  , -0.00824   , -0.35059436, -0.04842253])"
      ]
     },
     "execution_count": 19,
     "metadata": {},
     "output_type": "execute_result"
    }
   ],
   "source": [
    "Q4 = get_complex_power(1.03,[1,1,1.02,1],G[3], \n",
    "              B[3],0)\n",
    "PQs_calculados = np.append(PQs_calculados, Q4)\n",
    "PQs_calculados"
   ]
  },
  {
   "cell_type": "code",
   "execution_count": 20,
   "id": "amateur-murray",
   "metadata": {},
   "outputs": [],
   "source": [
    "PQs_esperados = np.array([-1,-0.5,3.6,-5,-1])"
   ]
  },
  {
   "cell_type": "code",
   "execution_count": 21,
   "id": "accurate-rebound",
   "metadata": {},
   "outputs": [
    {
     "data": {
      "text/plain": [
       "array([-1.252865  , -1.244072  ,  3.60824   , -4.64940564, -0.95157747])"
      ]
     },
     "execution_count": 21,
     "metadata": {},
     "output_type": "execute_result"
    }
   ],
   "source": [
    "delta = PQs_esperados - PQs_calculados\n",
    "delta"
   ]
  },
  {
   "cell_type": "code",
   "execution_count": 31,
   "id": "integral-disposition",
   "metadata": {},
   "outputs": [],
   "source": [
    "def get_H(G, B, V, teta):\n",
    "    G = np.matrix(G)\n",
    "    B = np.matrix(B)\n",
    "    teta = np.array(teta)\n",
    "    V = np.array(V)\n",
    "    result = np.matrix(np.array([[]]))\n",
    "    for i in range(len(G)):\n",
    "        row = np.array([])\n",
    "        for j in range(len(G)):\n",
    "            if(i==j):\n",
    "                element = -B[i,i]*V[i]-get_complex_power(V[i],V,G[i],teta,B)\n",
    "            else:\n",
    "                element = V[i]*V[j]*(np.array(G[j])*np.sin(teta)-np.array(B[j])*np.cos(teta))\n",
    "            np.append(row,element)\n",
    "            print(row)\n",
    "        np.append(result,row)\n",
    "        print(result)\n",
    "    return result"
   ]
  },
  {
   "cell_type": "code",
   "execution_count": 32,
   "id": "operational-deviation",
   "metadata": {},
   "outputs": [
    {
     "name": "stdout",
     "output_type": "stream",
     "text": [
      "[]\n",
      "[]\n",
      "[]\n",
      "[]\n",
      "[]\n",
      "[]\n",
      "[]\n",
      "[]\n",
      "[]\n",
      "[]\n",
      "[]\n",
      "[]\n",
      "[]\n",
      "[]\n",
      "[]\n",
      "[]\n",
      "[]\n",
      "[]\n",
      "[]\n",
      "[]\n"
     ]
    },
    {
     "data": {
      "text/plain": [
       "matrix([], shape=(1, 0), dtype=float64)"
      ]
     },
     "execution_count": 32,
     "metadata": {},
     "output_type": "execute_result"
    }
   ],
   "source": [
    "get_H(G,B,V,TETAim)"
   ]
  },
  {
   "cell_type": "code",
   "execution_count": null,
   "id": "controlling-threshold",
   "metadata": {},
   "outputs": [],
   "source": [
    "np.matrix(B)[1,1]"
   ]
  },
  {
   "cell_type": "code",
   "execution_count": 26,
   "id": "dirty-mechanics",
   "metadata": {},
   "outputs": [],
   "source": [
    "x= np.matrix([[1,-1,-1,1],\n",
    "     [1,1,1,1],\n",
    "     [1,1,1,1],\n",
    "     [1,1,1,1]])\n",
    "def jacobian_tensorflow(x):    \n",
    "    jacobian_matrix = []\n",
    "    for m in range(M):\n",
    "        # We iterate over the M elements of the output vector\n",
    "        grad_func = tf.gradients(model.output[:, m], model.input)\n",
    "        gradients = sess.run(grad_func, feed_dict={model.input: x.reshape((1, x.size))})\n",
    "        jacobian_matrix.append(gradients[0][0,:])\n",
    "        \n",
    "    return np.array(jacobian_matrix)"
   ]
  },
  {
   "cell_type": "code",
   "execution_count": null,
   "id": "organic-saint",
   "metadata": {},
   "outputs": [],
   "source": []
  }
 ],
 "metadata": {
  "kernelspec": {
   "display_name": "Python 3",
   "language": "python",
   "name": "python3"
  },
  "language_info": {
   "codemirror_mode": {
    "name": "ipython",
    "version": 3
   },
   "file_extension": ".py",
   "mimetype": "text/x-python",
   "name": "python",
   "nbconvert_exporter": "python",
   "pygments_lexer": "ipython3",
   "version": "3.8.5"
  }
 },
 "nbformat": 4,
 "nbformat_minor": 5
}
