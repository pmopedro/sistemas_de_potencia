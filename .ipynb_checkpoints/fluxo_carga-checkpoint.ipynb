{
 "cells": [
  {
   "cell_type": "code",
   "execution_count": 2,
   "id": "temporal-fence",
   "metadata": {},
   "outputs": [],
   "source": [
    "import numpy as np\n",
    "import scipy \n",
    "import pandas as pd"
   ]
  },
  {
   "cell_type": "markdown",
   "id": "arranged-found",
   "metadata": {},
   "source": [
    "# 1 Problema de Fluxo de Carga\n",
    "## 1.1 Conseguir matriz admitância"
   ]
  },
  {
   "cell_type": "code",
   "execution_count": 3,
   "id": "distributed-headline",
   "metadata": {},
   "outputs": [],
   "source": [
    "def get_admitance(R,X):\n",
    "    i =1j\n",
    "    return R/(R*R+X*X)-X*i/(R*R+X*X)"
   ]
  },
  {
   "cell_type": "code",
   "execution_count": 4,
   "id": "metric-engineer",
   "metadata": {},
   "outputs": [],
   "source": [
    "lines = pd.DataFrame([[0.0050, 0.200],\n",
    "                      [0.0090, 0.100],\n",
    "                      [0.0030, 0.060],\n",
    "                      [0.00225, 0.100],\n",
    "                      [0.0010, 0.05]],\n",
    "                    columns=['r', 'x'],\n",
    "                    index=['y12','y13','y13*','y23','y34'])"
   ]
  },
  {
   "cell_type": "code",
   "execution_count": 5,
   "id": "brave-manufacturer",
   "metadata": {},
   "outputs": [
    {
     "data": {
      "text/plain": [
       "y12      0.124922-4.996877j\n",
       "y13      0.892769-9.919651j\n",
       "y13*    0.831255-16.625104j\n",
       "y23      0.224886-9.994940j\n",
       "y34     0.399840-19.992003j\n",
       "dtype: complex128"
      ]
     },
     "execution_count": 5,
     "metadata": {},
     "output_type": "execute_result"
    }
   ],
   "source": [
    "y = get_admitance(lines.r,lines.x)\n",
    "y"
   ]
  },
  {
   "cell_type": "code",
   "execution_count": 6,
   "id": "optical-blank",
   "metadata": {},
   "outputs": [
    {
     "data": {
      "text/plain": [
       "(1.8489456936887732-30.751631687095323j)"
      ]
     },
     "execution_count": 6,
     "metadata": {},
     "output_type": "execute_result"
    }
   ],
   "source": [
    "y['y12']+y['y13']+y['y13*']+0.54j/2+0.82j/2+0.22j/2"
   ]
  },
  {
   "cell_type": "code",
   "execution_count": 7,
   "id": "legitimate-outreach",
   "metadata": {},
   "outputs": [
    {
     "data": {
      "text/plain": [
       "(-1.7240237698911467+26.54475473519026j)"
      ]
     },
     "execution_count": 7,
     "metadata": {},
     "output_type": "execute_result"
    }
   ],
   "source": [
    "-(y['y13']+y['y13*'])"
   ]
  },
  {
   "cell_type": "code",
   "execution_count": 8,
   "id": "solved-baseline",
   "metadata": {},
   "outputs": [
    {
     "data": {
      "text/plain": [
       "(0.34980807518348733-14.281817013498875j)"
      ]
     },
     "execution_count": 8,
     "metadata": {},
     "output_type": "execute_result"
    }
   ],
   "source": [
    "y['y12']+y['y23']+0.54j/2+0.88j/2"
   ]
  },
  {
   "cell_type": "code",
   "execution_count": 9,
   "id": "declared-pharmaceutical",
   "metadata": {},
   "outputs": [
    {
     "data": {
      "text/plain": [
       "(2.5687499852514177-55.57169799550459j)"
      ]
     },
     "execution_count": 9,
     "metadata": {},
     "output_type": "execute_result"
    }
   ],
   "source": [
    "y['y13']+y['y13*']+y['y34']+y['y23']+0.82j/2+0.22j/2+0.88j/2+0.44/2"
   ]
  },
  {
   "cell_type": "code",
   "execution_count": 10,
   "id": "streaming-daisy",
   "metadata": {},
   "outputs": [
    {
     "data": {
      "text/plain": [
       "(0.39984006397441013-19.772003198720512j)"
      ]
     },
     "execution_count": 10,
     "metadata": {},
     "output_type": "execute_result"
    }
   ],
   "source": [
    "y['y34']+0.44j/2"
   ]
  },
  {
   "cell_type": "markdown",
   "id": "valuable-passing",
   "metadata": {},
   "source": [
    "## 1.2 Calcular Potências"
   ]
  },
  {
   "cell_type": "code",
   "execution_count": 11,
   "id": "cordless-gnome",
   "metadata": {},
   "outputs": [],
   "source": [
    "def get_real_power(Vi,Vm,Gim,Bim,TETAim):\n",
    "    Gim = np.array(Gim)\n",
    "    Bim = np.array(Bim)\n",
    "    row = Vm*(Gim*np.cos(TETAim)+Bim*np.sin(TETAim))\n",
    "    \n",
    "    return Vi*sum(row)"
   ]
  },
  {
   "cell_type": "code",
   "execution_count": 12,
   "id": "independent-carroll",
   "metadata": {},
   "outputs": [],
   "source": [
    "def get_complex_power(Vi,Vm,Gim,TETAim,Bim):\n",
    "    Gim = np.array(Gim)\n",
    "    Bim = np.array(Bim)\n",
    "    row = Vm*(Gim*np.sin(TETAim)-Bim*np.cos(TETAim))\n",
    "    return Vi*sum(row)"
   ]
  },
  {
   "cell_type": "code",
   "execution_count": 13,
   "id": "essential-albania",
   "metadata": {},
   "outputs": [],
   "source": [
    "V = [1, 1, 1.02, 1]\n",
    "\n",
    "G = [[1.84,-0.125,-0.724,0],\n",
    "     [0.125,0.35,-0.225,0],\n",
    "     [-1.724,0.225,2.57,-0.4],\n",
    "     [0,0,-0.4,0.4]]\n",
    "\n",
    "B = [[-30.8,5,26.6,0],\n",
    "     [5, -14.3, 10, 0],\n",
    "     [26.6, 10, -55.6,20],\n",
    "     [0, 0, 20, 19.8]]\n",
    "\n",
    "TETAim=[0,0,0,0]"
   ]
  },
  {
   "cell_type": "code",
   "execution_count": 14,
   "id": "saved-dispatch",
   "metadata": {},
   "outputs": [],
   "source": [
    "PQs_calculados = np.array([])"
   ]
  },
  {
   "cell_type": "code",
   "execution_count": 15,
   "id": "overall-terminal",
   "metadata": {},
   "outputs": [
    {
     "data": {
      "text/plain": [
       "array([0.252865])"
      ]
     },
     "execution_count": 15,
     "metadata": {},
     "output_type": "execute_result"
    }
   ],
   "source": [
    "P2 = get_real_power(1.03,[1,1,1.02,1],G[1], \n",
    "              B[1],0)\n",
    "PQs_calculados = np.append(PQs_calculados, P2)\n",
    "PQs_calculados"
   ]
  },
  {
   "cell_type": "code",
   "execution_count": 16,
   "id": "killing-season",
   "metadata": {},
   "outputs": [
    {
     "data": {
      "text/plain": [
       "array([0.252865, 0.744072])"
      ]
     },
     "execution_count": 16,
     "metadata": {},
     "output_type": "execute_result"
    }
   ],
   "source": [
    "P3 = get_real_power(1.03,[1,1,1.02,1],G[2], \n",
    "              B[2],0)\n",
    "PQs_calculados = np.append(PQs_calculados, P3)\n",
    "PQs_calculados"
   ]
  },
  {
   "cell_type": "code",
   "execution_count": 17,
   "id": "loving-appeal",
   "metadata": {},
   "outputs": [
    {
     "data": {
      "text/plain": [
       "array([ 0.252865,  0.744072, -0.00824 ])"
      ]
     },
     "execution_count": 17,
     "metadata": {},
     "output_type": "execute_result"
    }
   ],
   "source": [
    "P4 = get_real_power(1.03,[1,1,1.02,1],G[3], \n",
    "              B[3],0)\n",
    "PQs_calculados = np.append(PQs_calculados, P4)\n",
    "PQs_calculados"
   ]
  },
  {
   "cell_type": "code",
   "execution_count": 18,
   "id": "flying-hospital",
   "metadata": {},
   "outputs": [
    {
     "data": {
      "text/plain": [
       "array([ 0.252865  ,  0.744072  , -0.00824   , -0.35059436])"
      ]
     },
     "execution_count": 18,
     "metadata": {},
     "output_type": "execute_result"
    }
   ],
   "source": [
    "Q2 = get_complex_power(1.03,[1,1,1.02,1],G[1], \n",
    "              B[1],0)\n",
    "PQs_calculados = np.append(PQs_calculados, Q2)\n",
    "PQs_calculados"
   ]
  },
  {
   "cell_type": "code",
   "execution_count": 19,
   "id": "round-texture",
   "metadata": {},
   "outputs": [
    {
     "data": {
      "text/plain": [
       "array([ 0.252865  ,  0.744072  , -0.00824   , -0.35059436, -0.04842253])"
      ]
     },
     "execution_count": 19,
     "metadata": {},
     "output_type": "execute_result"
    }
   ],
   "source": [
    "Q4 = get_complex_power(1.03,[1,1,1.02,1],G[3], \n",
    "              B[3],0)\n",
    "PQs_calculados = np.append(PQs_calculados, Q4)\n",
    "PQs_calculados"
   ]
  },
  {
   "cell_type": "code",
   "execution_count": 20,
   "id": "annual-partner",
   "metadata": {},
   "outputs": [],
   "source": [
    "PQs_esperados = np.array([-1,-0.5,3.6,-5,-1])"
   ]
  },
  {
   "cell_type": "code",
   "execution_count": 21,
   "id": "thermal-suspension",
   "metadata": {},
   "outputs": [
    {
     "data": {
      "text/plain": [
       "array([-1.252865  , -1.244072  ,  3.60824   , -4.64940564, -0.95157747])"
      ]
     },
     "execution_count": 21,
     "metadata": {},
     "output_type": "execute_result"
    }
   ],
   "source": [
    "delta = PQs_esperados - PQs_calculados\n",
    "delta"
   ]
  },
  {
   "cell_type": "code",
   "execution_count": 22,
   "id": "posted-chest",
   "metadata": {},
   "outputs": [],
   "source": [
    "def get_H(G, B, V, Q, teta):\n",
    "    G = np.matrix(G)\n",
    "    B = np.matrix(B)\n",
    "    teta = np.array(teta)\n",
    "    V = np.array(V)\n",
    "    result = np.matrix(np.array([[]]))\n",
    "    for i in range(len(G)):\n",
    "        row = np.array([])\n",
    "        for j in range(len(G)):\n",
    "            if(i==j):\n",
    "                element = -B[i,i]*V[i]-get_complex_power()\n",
    "            else:\n",
    "                element = V[i]*V[j]*(np.array(G[j])*np.sin(teta)-np.array(B[j])*np.cos(teta))\n",
    "            np.append(row,element)\n",
    "        np.append(result,row)\n",
    "    return result"
   ]
  },
  {
   "cell_type": "code",
   "execution_count": 23,
   "id": "violent-placement",
   "metadata": {},
   "outputs": [
    {
     "ename": "TypeError",
     "evalue": "get_H() missing 1 required positional argument: 'teta'",
     "output_type": "error",
     "traceback": [
      "\u001b[0;31m---------------------------------------------------------------\u001b[0m",
      "\u001b[0;31mTypeError\u001b[0m                     Traceback (most recent call last)",
      "\u001b[0;32m<ipython-input-23-2072ac9ad7d5>\u001b[0m in \u001b[0;36m<module>\u001b[0;34m\u001b[0m\n\u001b[0;32m----> 1\u001b[0;31m \u001b[0mget_H\u001b[0m\u001b[0;34m(\u001b[0m\u001b[0mG\u001b[0m\u001b[0;34m,\u001b[0m \u001b[0mB\u001b[0m\u001b[0;34m,\u001b[0m \u001b[0mV\u001b[0m \u001b[0;34m,\u001b[0m\u001b[0mTETAim\u001b[0m \u001b[0;34m)\u001b[0m\u001b[0;34m\u001b[0m\u001b[0;34m\u001b[0m\u001b[0m\n\u001b[0m",
      "\u001b[0;31mTypeError\u001b[0m: get_H() missing 1 required positional argument: 'teta'"
     ]
    }
   ],
   "source": [
    "get_H(G, B, V ,TETAim )"
   ]
  },
  {
   "cell_type": "code",
   "execution_count": null,
   "id": "available-triple",
   "metadata": {},
   "outputs": [],
   "source": [
    "np.matrix(B)[1,1]"
   ]
  },
  {
   "cell_type": "code",
   "execution_count": 24,
   "id": "growing-nepal",
   "metadata": {},
   "outputs": [],
   "source": [
    "x= np.matrix([[1,-1,-1,1],\n",
    "     [1,1,1,1],\n",
    "     [1,1,1,1],\n",
    "     [1,1,1,1]])\n",
    "def jacobian_tensorflow(M):    \n",
    "    jacobian_matrix = []\n",
    "    for m in range(M):\n",
    "        # We iterate over the M elements of the output vector\n",
    "        grad_func = tf.gradients(model.output[:, m], model.input)\n",
    "        gradients = sess.run(grad_func, feed_dict={model.input: x.reshape((1, x.size))})\n",
    "        jacobian_matrix.append(gradients[0][0,:])\n",
    "        \n",
    "    return np.array(jacobian_matrix)"
   ]
  },
  {
   "cell_type": "code",
   "execution_count": 25,
   "id": "unknown-influence",
   "metadata": {},
   "outputs": [
    {
     "ename": "NameError",
     "evalue": "name 'M' is not defined",
     "output_type": "error",
     "traceback": [
      "\u001b[0;31m---------------------------------------------------------------\u001b[0m",
      "\u001b[0;31mNameError\u001b[0m                     Traceback (most recent call last)",
      "\u001b[0;32m<ipython-input-25-031d962791c3>\u001b[0m in \u001b[0;36m<module>\u001b[0;34m\u001b[0m\n\u001b[0;32m----> 1\u001b[0;31m \u001b[0mjacobian_tensorflow\u001b[0m\u001b[0;34m(\u001b[0m\u001b[0mx\u001b[0m\u001b[0;34m)\u001b[0m\u001b[0;34m\u001b[0m\u001b[0;34m\u001b[0m\u001b[0m\n\u001b[0m",
      "\u001b[0;32m<ipython-input-24-26a96b404d91>\u001b[0m in \u001b[0;36mjacobian_tensorflow\u001b[0;34m(x)\u001b[0m\n\u001b[1;32m      5\u001b[0m \u001b[0;32mdef\u001b[0m \u001b[0mjacobian_tensorflow\u001b[0m\u001b[0;34m(\u001b[0m\u001b[0mx\u001b[0m\u001b[0;34m)\u001b[0m\u001b[0;34m:\u001b[0m\u001b[0;34m\u001b[0m\u001b[0;34m\u001b[0m\u001b[0m\n\u001b[1;32m      6\u001b[0m     \u001b[0mjacobian_matrix\u001b[0m \u001b[0;34m=\u001b[0m \u001b[0;34m[\u001b[0m\u001b[0;34m]\u001b[0m\u001b[0;34m\u001b[0m\u001b[0;34m\u001b[0m\u001b[0m\n\u001b[0;32m----> 7\u001b[0;31m     \u001b[0;32mfor\u001b[0m \u001b[0mm\u001b[0m \u001b[0;32min\u001b[0m \u001b[0mrange\u001b[0m\u001b[0;34m(\u001b[0m\u001b[0mM\u001b[0m\u001b[0;34m)\u001b[0m\u001b[0;34m:\u001b[0m\u001b[0;34m\u001b[0m\u001b[0;34m\u001b[0m\u001b[0m\n\u001b[0m\u001b[1;32m      8\u001b[0m         \u001b[0;31m# We iterate over the M elements of the output vector\u001b[0m\u001b[0;34m\u001b[0m\u001b[0;34m\u001b[0m\u001b[0;34m\u001b[0m\u001b[0m\n\u001b[1;32m      9\u001b[0m         \u001b[0mgrad_func\u001b[0m \u001b[0;34m=\u001b[0m \u001b[0mtf\u001b[0m\u001b[0;34m.\u001b[0m\u001b[0mgradients\u001b[0m\u001b[0;34m(\u001b[0m\u001b[0mmodel\u001b[0m\u001b[0;34m.\u001b[0m\u001b[0moutput\u001b[0m\u001b[0;34m[\u001b[0m\u001b[0;34m:\u001b[0m\u001b[0;34m,\u001b[0m \u001b[0mm\u001b[0m\u001b[0;34m]\u001b[0m\u001b[0;34m,\u001b[0m \u001b[0mmodel\u001b[0m\u001b[0;34m.\u001b[0m\u001b[0minput\u001b[0m\u001b[0;34m)\u001b[0m\u001b[0;34m\u001b[0m\u001b[0;34m\u001b[0m\u001b[0m\n",
      "\u001b[0;31mNameError\u001b[0m: name 'M' is not defined"
     ]
    }
   ],
   "source": [
    "jacobian_tensorflow(x)"
   ]
  },
  {
   "cell_type": "code",
   "execution_count": null,
   "id": "unsigned-asthma",
   "metadata": {},
   "outputs": [],
   "source": []
  }
 ],
 "metadata": {
  "kernelspec": {
   "display_name": "Python 3",
   "language": "python",
   "name": "python3"
  },
  "language_info": {
   "codemirror_mode": {
    "name": "ipython",
    "version": 3
   },
   "file_extension": ".py",
   "mimetype": "text/x-python",
   "name": "python",
   "nbconvert_exporter": "python",
   "pygments_lexer": "ipython3",
   "version": "3.8.5"
  }
 },
 "nbformat": 4,
 "nbformat_minor": 5
}
